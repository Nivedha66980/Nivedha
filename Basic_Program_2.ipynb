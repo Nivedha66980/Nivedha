{
 "cells": [
  {
   "cell_type": "code",
   "execution_count": 13,
   "metadata": {},
   "outputs": [
    {
     "name": "stdout",
     "output_type": "stream",
     "text": [
      "(1, 2, 3, 4, 5, 6, 7, 8, 9, 10)\n",
      "(2, 4, 6, 8, 10)\n"
     ]
    }
   ],
   "source": [
    "#Program to print only even number in the tuple\n",
    "tup = (1,2,3,4,5,6,7,8,9,10)\n",
    "print(tup)\n",
    "li=list(tup)\n",
    "even =[]\n",
    "for i in li:\n",
    "    if ((i%2)==0):\n",
    "        even.append(i)\n",
    "        '''\n",
    "          else:\n",
    "        print(\"\\n 0\")\n",
    "        '''\n",
    "#even.append(2)\n",
    "tup=tuple(even)\n",
    "print(tup)"
   ]
  },
  {
   "cell_type": "code",
   "execution_count": 16,
   "metadata": {},
   "outputs": [
    {
     "name": "stdout",
     "output_type": "stream",
     "text": [
      "['wellcome', 'to', 'Python', 'world']\n"
     ]
    }
   ],
   "source": [
    "#concatenate two lists\n",
    "list1=[\"wel\",\"t\",\"Py\",\"wor\"]\n",
    "list2=[\"come\",\"o\",\"thon\",\"ld\"]\n",
    "res = [i + j for i, j in zip(list1, list2)]\n",
    "#res = [i + j,for i,j in zip(list1,list2)]\n",
    "print(res)"
   ]
  },
  {
   "cell_type": "code",
   "execution_count": null,
   "metadata": {},
   "outputs": [],
   "source": []
  }
 ],
 "metadata": {
  "kernelspec": {
   "display_name": "Python 3",
   "language": "python",
   "name": "python3"
  },
  "language_info": {
   "codemirror_mode": {
    "name": "ipython",
    "version": 3
   },
   "file_extension": ".py",
   "mimetype": "text/x-python",
   "name": "python",
   "nbconvert_exporter": "python",
   "pygments_lexer": "ipython3",
   "version": "3.8.3"
  }
 },
 "nbformat": 4,
 "nbformat_minor": 4
}
