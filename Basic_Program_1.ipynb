{
 "cells": [
  {
   "cell_type": "code",
   "execution_count": null,
   "metadata": {},
   "outputs": [],
   "source": [
    "#program to find the range element between 50 and 70\n",
    "lst1 = [34,67,55,33,12,98]\n",
    "print(lst1)\n",
    "for i in lst1:\n",
    "     if i<=50 and i<71:\n",
    "            print(i)\n",
    "            \n",
    "          \n",
    "   \n"
   ]
  },
  {
   "cell_type": "code",
   "execution_count": 18,
   "metadata": {},
   "outputs": [
    {
     "name": "stdout",
     "output_type": "stream",
     "text": [
      "abc\n",
      "babu\n"
     ]
    }
   ],
   "source": [
    "#Program to find str type in a list\n",
    "lst2 =['abc', 100,10.10,True,'babu']\n",
    "#x=str(type(lst))\n",
    "#print(x)\n",
    "for i in lst2:\n",
    "    #print(i)\n",
    "    if (type(i))==str:\n",
    "        print(i)\n"
   ]
  },
  {
   "cell_type": "code",
   "execution_count": 22,
   "metadata": {},
   "outputs": [
    {
     "name": "stdout",
     "output_type": "stream",
     "text": [
      "['None', 100, 10.1, True, 'None']\n"
     ]
    }
   ],
   "source": [
    "#Program to replace string value as 'none'\n",
    "lst=['abs',100,10.10,True,'xyzz']\n",
    "for i in lst:\n",
    "    if type(i)==str:\n",
    "        v=lst.index(i)\n",
    "        lst[v]='None'\n",
    "print(lst)\n",
    "        #lst.insert(v,'None')\n",
    "\n",
    "       \n",
    "        "
   ]
  },
  {
   "cell_type": "code",
   "execution_count": null,
   "metadata": {},
   "outputs": [],
   "source": [
    "#Program to find sqaure root of a itemsin a list\n",
    "lst=[1,2,3,4,5,6,7]\n",
    "for i in lst: \n",
    "    lst.append(i**2)\n",
    "    #lst[lst.index(i)] = i**2\n",
    "    #ind = lst.index(i)\n",
    "    #v = (i**2)\n",
    "    #lst[ind]=v\n",
    "print(lst)\n",
    "    \n",
    "    \n",
    "   \n",
    "  \n",
    "   \n",
    "    \n",
    "    \n",
    "\n",
    "    \n",
    "  \n",
    "    \n",
    "\n",
    "    \n"
   ]
  },
  {
   "cell_type": "code",
   "execution_count": 17,
   "metadata": {},
   "outputs": [
    {
     "name": "stdout",
     "output_type": "stream",
     "text": [
      "enter a csv number34,55,67,98,12,37\n",
      "\n",
      "Integer list is  [34, 55, 67, 98, 12, 37]\n",
      "\n",
      " tuple list is ('34', '55', '67', '98', '12', '37')\n"
     ]
    }
   ],
   "source": [
    "#Program to converst CSV element into list and tuple\n",
    "a = str(input(\"enter a csv number\"))\n",
    "n =[]\n",
    "list=(a.split(\",\"))\n",
    "tup= tuple(a.split(\",\"))\n",
    "for i in list:\n",
    "    n.append(int (i))\n",
    "\n",
    "print(\"\\nInteger list is \",n)\n",
    "print(\"\\n tuple list is\",tup)\n",
    "\n",
    "\n",
    "\n"
   ]
  },
  {
   "cell_type": "code",
   "execution_count": 18,
   "metadata": {},
   "outputs": [
    {
     "name": "stdout",
     "output_type": "stream",
     "text": [
      "original tuple is (1, 2, 3, 4, 5, 6, 7, 8, 9, 10)\n",
      "\n",
      " first half tuple is (1, 2, 3, 4, 5)\n",
      "\n",
      " second hald tuple is (6, 7, 8, 9, 10)\n"
     ]
    }
   ],
   "source": [
    "#Program to split tuple element as half\n",
    "tup =(1,2,3,4,5,6,7,8,9,10)\n",
    "tup1 = tup[:5]\n",
    "tup2=tup[5:]\n",
    "print(\"original tuple is\",tup)\n",
    "print(\"\\n first half tuple is\",tup1)\n",
    "print(\"\\n second hald tuple is\",tup2)"
   ]
  },
  {
   "cell_type": "code",
   "execution_count": null,
   "metadata": {},
   "outputs": [],
   "source": []
  },
  {
   "cell_type": "code",
   "execution_count": null,
   "metadata": {},
   "outputs": [],
   "source": []
  },
  {
   "cell_type": "code",
   "execution_count": null,
   "metadata": {},
   "outputs": [],
   "source": []
  }
 ],
 "metadata": {
  "kernelspec": {
   "display_name": "Python 3",
   "language": "python",
   "name": "python3"
  },
  "language_info": {
   "codemirror_mode": {
    "name": "ipython",
    "version": 3
   },
   "file_extension": ".py",
   "mimetype": "text/x-python",
   "name": "python",
   "nbconvert_exporter": "python",
   "pygments_lexer": "ipython3",
   "version": "3.8.3"
  }
 },
 "nbformat": 4,
 "nbformat_minor": 4
}
